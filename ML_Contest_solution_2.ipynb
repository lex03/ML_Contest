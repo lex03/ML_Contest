{
  "nbformat": 4,
  "nbformat_minor": 0,
  "metadata": {
    "colab": {
      "name": "ML_Contest_solution_2.ipynb",
      "provenance": []
    },
    "kernelspec": {
      "name": "python3",
      "display_name": "Python 3"
    },
    "language_info": {
      "name": "python"
    },
    "accelerator": "GPU"
  },
  "cells": [
    {
      "cell_type": "code",
      "metadata": {
        "colab": {
          "base_uri": "https://localhost:8080/"
        },
        "id": "ndPg6ZV5PeoW",
        "outputId": "f9d2fc61-1c0b-4378-db1e-b3063779da61"
      },
      "source": [
        "# dataset directory\n",
        "dataset =\"/content/lyrics.txt\"\n",
        "text = \"\"\n",
        "\n",
        "with open(dataset,\"r\") as ds:\n",
        "    text = ds.read()\n",
        "\n",
        "print(\"Dataset Length : \", len(text), \"characters\")\n",
        "\n",
        "# Each song lyric is preceded by \"###SONG_NAME###\". So count of \"###\" divided by 2 gives total songs\n",
        "songs_count = int(text.count(\"###\")/2)\n",
        "print(\"\\nTotal songs : \", songs_count)\n",
        "\n",
        "# Total distinct chars initially\n",
        "chars = sorted(list(set(text)))\n",
        "print(\"\\nTotal distinct chars : \", len(chars))\n",
        "print(chars)"
      ],
      "execution_count": 68,
      "outputs": [
        {
          "output_type": "stream",
          "name": "stdout",
          "text": [
            "Dataset Length :  636211 characters\n",
            "\n",
            "Total songs :  158\n",
            "\n",
            "Total distinct chars :  89\n",
            "['\\n', ' ', '!', '\"', '#', '$', '%', '&', \"'\", '(', ')', '*', '+', ',', '-', '.', '/', '0', '1', '2', '3', '4', '5', '6', '7', '8', '9', ':', ';', '>', '?', 'A', 'B', 'C', 'D', 'E', 'F', 'G', 'H', 'I', 'J', 'K', 'L', 'M', 'N', 'O', 'P', 'Q', 'R', 'S', 'T', 'U', 'V', 'W', 'X', 'Y', 'Z', '[', ']', '`', 'a', 'b', 'c', 'd', 'e', 'f', 'g', 'h', 'i', 'j', 'k', 'l', 'm', 'n', 'o', 'p', 'q', 'r', 's', 't', 'u', 'v', 'w', 'x', 'y', 'z', '{', '}', '�']\n"
          ]
        }
      ]
    },
    {
      "cell_type": "code",
      "metadata": {
        "colab": {
          "base_uri": "https://localhost:8080/"
        },
        "id": "Q3S9048fPvOt",
        "outputId": "83cf861b-50f1-4ae7-f375-5c5f852b9357"
      },
      "source": [
        "#regex manipulation\n",
        "import re\n",
        "\n",
        "# Corpus pre-processing\n",
        "\n",
        "# Convert text to lower-case characters to reduce size of output chars for our model\n",
        "text = text.lower()\n",
        "chars = sorted(list(set(text)))\n",
        "print(\"\\nTotal distinct chars : \", len(chars))\n",
        "print(chars)"
      ],
      "execution_count": 69,
      "outputs": [
        {
          "output_type": "stream",
          "name": "stdout",
          "text": [
            "\n",
            "Total distinct chars :  63\n",
            "['\\n', ' ', '!', '\"', '#', '$', '%', '&', \"'\", '(', ')', '*', '+', ',', '-', '.', '/', '0', '1', '2', '3', '4', '5', '6', '7', '8', '9', ':', ';', '>', '?', '[', ']', '`', 'a', 'b', 'c', 'd', 'e', 'f', 'g', 'h', 'i', 'j', 'k', 'l', 'm', 'n', 'o', 'p', 'q', 'r', 's', 't', 'u', 'v', 'w', 'x', 'y', 'z', '{', '}', '�']\n"
          ]
        }
      ]
    },
    {
      "cell_type": "code",
      "metadata": {
        "colab": {
          "base_uri": "https://localhost:8080/"
        },
        "id": "cxG-rztLQmqF",
        "outputId": "13abd89b-2e72-4f15-b5cd-18c89541c170"
      },
      "source": [
        "print(text[:2000])"
      ],
      "execution_count": 73,
      "outputs": [
        {
          "output_type": "stream",
          "name": "stdout",
          "text": [
            "###\"evil twin\"###\n",
            "\n",
            "yeah, trying to figure out the difference\n",
            "but i think, i think the lines are starting to get blurry\n",
            "\n",
            "i'm in a strange place\n",
            "i feel like ma$e when he gave up the game for his faith\n",
            "i feel like i'm caged in these chains and restraints\n",
            "grimming every stranger in the place while i gaze into space\n",
            "'cause i'm mentally rearranging his face\n",
            "i need a change of pace 'cause the pace i'm working at is dangerous\n",
            "there's nowhere to dump this anger and thanks to this angst\n",
            "i done quit chicken heads in cold turkey and started slowly roasting 'em\n",
            "'cause that's where most of my anger is based\n",
            "fuck your feelings, i feel like i play for the saints\n",
            "i just wanna hurt you, aim for the skanks\n",
            "then aim for all these fake kanye's, jay's, wayne's and the drake's\n",
            "i'm frustrated 'cause ain't no more n'sync, now i'm all out of whack\n",
            "i'm all out of backstreet boys to call out and attack\n",
            "i'm going all out in this rap shit and whatever the fallout is\n",
            "i'm strapped for battle sucka-duck, crawl out the back, it's a bar fight\n",
            "prepare your arsenal and beware of bar stools flying through the air\n",
            "and bottles breaking, mirrors also\n",
            "and i ain't stopping 'til the swear jar's full\n",
            "you done called every woman a slut, but you're forgetting sarah, marshall (palin)\n",
            "oh my bad, slut\n",
            "and next time i show up to court i'll be naked and just wear a lawsuit\n",
            "judge be like \"that's sharp, how much did that motherfucker cost you?\n",
            "smart ass, you're lucky i don't tear it off you\n",
            "and jump your bones, you sexy motherfucker\n",
            "you're so fucking gravy, marshall, i should start calling you \"au jus\"\n",
            "'cause all's you do is spit them lyrics out the wazoo.\n",
            "evil twin, take this beat now, it's all you.\"\n",
            "i believe people can change, but only for the worse\n",
            "i could've changed the world if it wasn't for this verse\n",
            "so satanic k-mart chains panic\n",
            "'cause they can't even spin back the curse words\n",
            "'cause they're worse when they're reversed, motherfucker\n",
            "(rape your mother, kill your parents)\n",
            "\n",
            "shit, motherfucker, and these kids are\n"
          ]
        }
      ]
    },
    {
      "cell_type": "code",
      "metadata": {
        "colab": {
          "base_uri": "https://localhost:8080/"
        },
        "id": "upv-YoK6Qo6N",
        "outputId": "8e79be0d-8b05-4324-e77f-ba6c8b747442"
      },
      "source": [
        "# Replace [...] by a blank\n",
        "text = re.sub(r'\\[.*\\]',\"\",text)\n",
        "print(text[:2000])\n",
        "print(\"\\n\\n Total characters : \", len(text))"
      ],
      "execution_count": 75,
      "outputs": [
        {
          "output_type": "stream",
          "name": "stdout",
          "text": [
            "###\"evil twin\"###\n",
            "\n",
            "yeah, trying to figure out the difference\n",
            "but i think, i think the lines are starting to get blurry\n",
            "\n",
            "i'm in a strange place\n",
            "i feel like ma$e when he gave up the game for his faith\n",
            "i feel like i'm caged in these chains and restraints\n",
            "grimming every stranger in the place while i gaze into space\n",
            "'cause i'm mentally rearranging his face\n",
            "i need a change of pace 'cause the pace i'm working at is dangerous\n",
            "there's nowhere to dump this anger and thanks to this angst\n",
            "i done quit chicken heads in cold turkey and started slowly roasting 'em\n",
            "'cause that's where most of my anger is based\n",
            "fuck your feelings, i feel like i play for the saints\n",
            "i just wanna hurt you, aim for the skanks\n",
            "then aim for all these fake kanye's, jay's, wayne's and the drake's\n",
            "i'm frustrated 'cause ain't no more n'sync, now i'm all out of whack\n",
            "i'm all out of backstreet boys to call out and attack\n",
            "i'm going all out in this rap shit and whatever the fallout is\n",
            "i'm strapped for battle sucka-duck, crawl out the back, it's a bar fight\n",
            "prepare your arsenal and beware of bar stools flying through the air\n",
            "and bottles breaking, mirrors also\n",
            "and i ain't stopping 'til the swear jar's full\n",
            "you done called every woman a slut, but you're forgetting sarah, marshall (palin)\n",
            "oh my bad, slut\n",
            "and next time i show up to court i'll be naked and just wear a lawsuit\n",
            "judge be like \"that's sharp, how much did that motherfucker cost you?\n",
            "smart ass, you're lucky i don't tear it off you\n",
            "and jump your bones, you sexy motherfucker\n",
            "you're so fucking gravy, marshall, i should start calling you \"au jus\"\n",
            "'cause all's you do is spit them lyrics out the wazoo.\n",
            "evil twin, take this beat now, it's all you.\"\n",
            "i believe people can change, but only for the worse\n",
            "i could've changed the world if it wasn't for this verse\n",
            "so satanic k-mart chains panic\n",
            "'cause they can't even spin back the curse words\n",
            "'cause they're worse when they're reversed, motherfucker\n",
            "(rape your mother, kill your parents)\n",
            "\n",
            "shit, motherfucker, and these kids are\n",
            "\n",
            "\n",
            " Total characters :  628254\n"
          ]
        }
      ]
    },
    {
      "cell_type": "code",
      "metadata": {
        "colab": {
          "base_uri": "https://localhost:8080/"
        },
        "id": "ZsW0r7a0Qy_B",
        "outputId": "371a14ee-9ef1-47ca-c8fc-aa86f6f340d0"
      },
      "source": [
        "# Further reduce data size of working characters\n",
        "\n",
        "# Replace (‘) and (’) by (')\n",
        "text  = re.sub('[‘’]',\"'\", text)\n",
        "\n",
        "# Replace remaining special characters by a blank\n",
        "# ('#') is kept to divide each song lyric into different dataset\n",
        "text = re.sub('[^a-z \\n\\#\\'\\,]', '', text)\n",
        "\n",
        "chars = sorted(list(set(text)))\n",
        "print(\"\\nTotal distinct chars : \", len(chars))\n",
        "print(chars)"
      ],
      "execution_count": 76,
      "outputs": [
        {
          "output_type": "stream",
          "name": "stdout",
          "text": [
            "\n",
            "Total distinct chars :  31\n",
            "['\\n', ' ', '#', \"'\", ',', 'a', 'b', 'c', 'd', 'e', 'f', 'g', 'h', 'i', 'j', 'k', 'l', 'm', 'n', 'o', 'p', 'q', 'r', 's', 't', 'u', 'v', 'w', 'x', 'y', 'z']\n"
          ]
        }
      ]
    },
    {
      "cell_type": "code",
      "metadata": {
        "colab": {
          "base_uri": "https://localhost:8080/"
        },
        "id": "MBmEMse7Q2E4",
        "outputId": "a707beb2-4c3f-417a-f062-0f08f556e449"
      },
      "source": [
        "#divide the dataset into elements containing either song names or lyrics\n",
        "song_name_song_lyric = text.split(\"###\")\n",
        "\n",
        "lyrics = []\n",
        "\n",
        "for i in range(2,len(song_name_song_lyric),2):\n",
        "    # Now removing the ('#') as well\n",
        "    song_name_song_lyric[i] = re.sub('[^a-z \\n\\'\\,]', '', song_name_song_lyric[i])\n",
        "    lyrics.append(song_name_song_lyric[i])\n",
        "    \n",
        "print(\"Total Songs : \", len(lyrics))\n",
        "\n",
        "print(\"\\n First Song :\\n\", lyrics[0])\n",
        "\n",
        "print(\"\\n\\n Last Song :\\n\", lyrics[-1])\n",
        "\n",
        "# The first and the last song matches up. SFSG !!"
      ],
      "execution_count": 77,
      "outputs": [
        {
          "output_type": "stream",
          "name": "stdout",
          "text": [
            "Total Songs :  158\n",
            "\n",
            " First Song :\n",
            " \n",
            "\n",
            "yeah, trying to figure out the difference\n",
            "but i think, i think the lines are starting to get blurry\n",
            "\n",
            "i'm in a strange place\n",
            "i feel like mae when he gave up the game for his faith\n",
            "i feel like i'm caged in these chains and restraints\n",
            "grimming every stranger in the place while i gaze into space\n",
            "'cause i'm mentally rearranging his face\n",
            "i need a change of pace 'cause the pace i'm working at is dangerous\n",
            "there's nowhere to dump this anger and thanks to this angst\n",
            "i done quit chicken heads in cold turkey and started slowly roasting 'em\n",
            "'cause that's where most of my anger is based\n",
            "fuck your feelings, i feel like i play for the saints\n",
            "i just wanna hurt you, aim for the skanks\n",
            "then aim for all these fake kanye's, jay's, wayne's and the drake's\n",
            "i'm frustrated 'cause ain't no more n'sync, now i'm all out of whack\n",
            "i'm all out of backstreet boys to call out and attack\n",
            "i'm going all out in this rap shit and whatever the fallout is\n",
            "i'm strapped for battle suckaduck, crawl out the back, it's a bar fight\n",
            "prepare your arsenal and beware of bar stools flying through the air\n",
            "and bottles breaking, mirrors also\n",
            "and i ain't stopping 'til the swear jar's full\n",
            "you done called every woman a slut, but you're forgetting sarah, marshall palin\n",
            "oh my bad, slut\n",
            "and next time i show up to court i'll be naked and just wear a lawsuit\n",
            "judge be like that's sharp, how much did that motherfucker cost you\n",
            "smart ass, you're lucky i don't tear it off you\n",
            "and jump your bones, you sexy motherfucker\n",
            "you're so fucking gravy, marshall, i should start calling you au jus\n",
            "'cause all's you do is spit them lyrics out the wazoo\n",
            "evil twin, take this beat now, it's all you\n",
            "i believe people can change, but only for the worse\n",
            "i could've changed the world if it wasn't for this verse\n",
            "so satanic kmart chains panic\n",
            "'cause they can't even spin back the curse words\n",
            "'cause they're worse when they're reversed, motherfucker\n",
            "rape your mother, kill your parents\n",
            "\n",
            "shit, motherfucker, and these kids are like parrots\n",
            "they run around the house just like terrorists\n",
            "screaming fuck, shit, fuck\n",
            "adult with a childishlike arrogance\n",
            "wild ever since the day i came out i was like merits, fuck that\n",
            "i'd rather be loud and i like swearing\n",
            "from the first album even the gals were like tight lyrics, dreamy eyes\n",
            "but my fucking mouth was nightmarish\n",
            "and from the start of it you felt like you were a part of this\n",
            "and the opposition felt the opposite\n",
            "sometimes i listen and revisit them old albums\n",
            "often as i can and skim through all them bitches\n",
            "to make sure i keep up with my competition\n",
            "ha ha hogger of beats, hoarder of rhymes\n",
            "borderline genius who's bored of his lines\n",
            "and that sort of defines where i'm at and the way i feel now\n",
            "feel like i might just strike first and ignore the replies\n",
            "\n",
            "there's darkness closing in evil twin\n",
            "there it goes again my evil twin,\n",
            "it controls my pen my evil twin,\n",
            "but that ain't me, it's my evil twin\n",
            "then i step out and see my evil twin he gives me an evil grin\n",
            "but he's just a friend evil twin,\n",
            "who pops up now and again again\n",
            "so don't blame me evil twin\n",
            "blame him, it's my evil twin\n",
            "then i step out and see my evil twin he gives me an evil grin\n",
            "\n",
            "welcome back to the land of the living, my friend\n",
            "you have slept for quite some time\n",
            "\n",
            "so who's left lady gaga mess with the bieber\n",
            "nah, f with christina, i ain't fucking with either jessica neither\n",
            "simpson or alba, my albums just sicker than strep with the fever\n",
            "get the cloriseptic, excedrin, aleve or extra strength tylenol 's\n",
            "feel like i'm burning to death, but i'm freezin'\n",
            "bedridden and destined never to leave the\n",
            "bedroom ever again like the legend of heathuh ledger\n",
            "my suicide notes, barely legible read the\n",
            "bottom, it's signed by the joker\n",
            "lorena said i never can leave her\n",
            "she'd sever my wiener i ever deceive her\n",
            "fuck that shit, bitch\n",
            "give up my dick for pussy, i'd be jerry mathers\n",
            "i ever left it to beaver\n",
            "get them titties cut off tryna mess with a cleaver\n",
            "gollywally, i vent, heat register, jesus\n",
            "ever since  dresden it was definitely my destiny\n",
            "when on the steps i met deshaun at osborn\n",
            "i'd never make it to sophomore\n",
            "i just wanted to skip school and rap, used to mop floors\n",
            "flip burgers and wash dishes while i wrote rhymes tryna get props for 'em\n",
            "'cause i took booksmarts and swapped for 'em\n",
            "they were sleeping, i made 'em stop snorin'\n",
            "made 'em break out the popcorn\n",
            "now i've been hiphop in its tiptop form\n",
            "since nwa was blaring through my car windows leaning on the horn\n",
            "screaming, fuck the police like cop porn\n",
            "flipped rap on its ear like i dropped corn\n",
            "fuck top , bitch, i'm top \n",
            "and that includes biggie and pac, whore\n",
            "and i got an evil twin, so who the fuck do you think that rd and that th spot's for\n",
            "and crazy as i am i'm much tamer than him\n",
            "and i'm nuts, then again who the fuck wants a plain eminem\n",
            "but no one's insaner than slim, look at that evil grin evil twin\n",
            "please come in, what was your name again\n",
            "hi, faggot\n",
            "look who's back with a crab up his ass like a lobster crawled up there\n",
            "two rabbits, a koala bear and a ball of hair\n",
            "and you're all aware i don't got it all upstairs\n",
            "guess that's why i'm an addict and it's so small up there\n",
            "peace to whitney, geez, just hit me\n",
            "that i should call the looney police to come get me\n",
            "'cause i'm so sick of being the truth i wish someone'd finally admit me\n",
            "to a mental hospital with britney\n",
            "oh, lmfao, no way, ho\n",
            "jose baez couldn't beat this rap, oj no\n",
            "hooray, i'm off the hook like casey anthony\n",
            "hey ho, hey ho\n",
            "i sound like i'm tryna sing the fucking chorus to hip hop hooray\n",
            "no, i'm hollering, you got bottom end like an \n",
            "and i base whether we're fucking off that instead of your face, so\n",
            "let your lowend raise, yo\n",
            "tango, what you think, ho\n",
            "slow dancing in the bowling\n",
            "you tryna hold hands with your homie\n",
            "what you think i'm looking for romance 'cause i'm lonely\n",
            "change that tune, you ain't got a remote chance to control me\n",
            "hoe, i'm only vulnerable when i got a boner\n",
            "superman tried to fuck me over, it won't hurt\n",
            "don't try to fix me, i'm broke so i don't work\n",
            "so are you, but you're broke 'cause you don't work\n",
            "but all bullshit aside i hit a stride\n",
            "still shady inside, hair every bit as dyed\n",
            "as it used to be when i first introduced y'all to my skittish side\n",
            "and blamed it on him when they tried to criticize\n",
            "'cause we are the same, bitch\n",
            "\n",
            "\n",
            "\n",
            "\n",
            " Last Song :\n",
            " \n",
            "\n",
            "just the two of us \n",
            "\n",
            "\n",
            "baby your dada loves you hey\n",
            "and i'ma always be here for you hey no matter what happens\n",
            "you're all i got in this world\n",
            "i would never give you up for nothin\n",
            "nobody in this world is ever gonna keep you from me\n",
            "i love you\n",
            "\n",
            "c'mon haihai, we goin to the beach\n",
            "grab a couple of toys and let dada strap you in the car seat\n",
            "oh where's mama she's takin a little nap in the trunk\n",
            "oh that smell whew dada musta runned over a skunk\n",
            "now i know what you're thinkin  it's kind of late to go swimmin\n",
            "but you know your mama, she's one of those type of women\n",
            "that do crazy things, and if she don't get her way, she'll throw a fit\n",
            "don't play with dada's toy knife, honey, let go of it no\n",
            "and don't look so upset, why you actin bashful\n",
            "don't you wanna help dada build a sand castle yeah\n",
            "and mama said she wants to show how far she can float\n",
            "and don't worry about that little booboo on her throat\n",
            "it's just a little scratch  it don't hurt, her was eatin\n",
            "dinner while you were sweepin and spilled ketchup on her shirt\n",
            "mama's messy isn't she we'll let her wash off in the water\n",
            "and me and you can pway by ourselves, can't we\n",
            "\n",
            "just the two of us \n",
            "and when we ride\n",
            "just the two of us \n",
            "just you and i\n",
            "just the two of us \n",
            "and when we ride\n",
            "just the two of us \n",
            "just you and i\n",
            "\n",
            "see honey there's a place called heaven and a place called hell\n",
            "a place called prison and a place called jail\n",
            "and dada's probably on his way to all of em except one\n",
            "cause mama's got a new husband and a stepson\n",
            "and you don't want a brother do ya nah\n",
            "maybe when you're old enough to understand a little better\n",
            "i'll explain it to ya\n",
            "but for now we'll just say mama was real real bad\n",
            "she was bein mean to dad and made him real real mad\n",
            "but i still feel sad that i put her on timeout\n",
            "sit back in your chair honey, quit tryin to climb out wahh\n",
            "i told you it's okay haihai, wanna baba \n",
            "take a nightnight nanaboo, googoo gaga\n",
            "her make googoo caca dada change your diadee\n",
            "clean the baby up so her can take a nightynighty\n",
            "your dad'll wake her up as soon as we get to the water\n",
            "ninetyseven bonnie and clyde, me and my daughter\n",
            "\n",
            "just the two of us \n",
            "and when we ride\n",
            "just the two of us \n",
            "just you and i\n",
            "just the two of us \n",
            "and when we ride\n",
            "just the two of us \n",
            "just you and i\n",
            "\n",
            "wake up sweepy head we're here, before we pway\n",
            "we're gonna take mama for a wittle walk along the pier\n",
            "baby, don't cry honey, don't get the wrong idea\n",
            "mama's too sweepy to hear you screamin in her ear mamaa\n",
            "that's why you can't get her to wake, but don't worry\n",
            "dada made a nice bed for mommy at the bottom of the lake\n",
            "here, you wanna help dada tie a rope around this rock yeah\n",
            "we'll tie it to her footsie then we'll roll her off the dock\n",
            "ready now, here we go, on the count of free\n",
            "one two free wheeeeee whoooooshhhhh\n",
            "there goes mama, spwashin in the wata\n",
            "no more fightin wit dad, no more restraining order\n",
            "no more stepdada, no more new brother\n",
            "blow her kisses byebye, tell mama you love her mommy\n",
            "now we'll go play in the sand, build a castle and junk\n",
            "but first, just help dad with two more things out the trunk\n",
            "\n",
            "just the two of us \n",
            "and when we ride\n",
            "just the two of us \n",
            "just you and i\n",
            "just the two of us \n",
            "and when we ride\n",
            "just the two of us \n",
            "just you and i\n",
            "\n",
            "just the two of us \n",
            "\n",
            "\n",
            "just me and you baby\n",
            "is all we need in this world\n",
            "just me and you\n",
            "your dada will always be there for you\n",
            "your dada's always gonna love you\n",
            "remember that\n",
            "if you ever need me i will always be here for you\n",
            "if you ever need anything, just ask\n",
            "dada will be right there\n",
            "your dada loves you\n",
            "i love you baby\n"
          ]
        }
      ]
    },
    {
      "cell_type": "code",
      "metadata": {
        "colab": {
          "base_uri": "https://localhost:8080/"
        },
        "id": "4n1PfHVLQ4ZE",
        "outputId": "bbc6d817-39a8-4232-f2ec-a26667abb74d"
      },
      "source": [
        "# As can be seen in song lyrics printed above, there is a problem of \n",
        "# consecutive newline characters (e.g. \"\\n\\n\\n\") in the data \n",
        "# that is causing empty sentences\n",
        "\n",
        "# Replace multiple instances of nextline(\\n) by single \"\\n\"   \n",
        "for i in range(0, len(lyrics)) :\n",
        "    lyrics[i] = re.sub('\\n+',\"\\n\", lyrics[i])\n",
        "    \n",
        "print(lyrics[0])"
      ],
      "execution_count": 78,
      "outputs": [
        {
          "output_type": "stream",
          "name": "stdout",
          "text": [
            "\n",
            "yeah, trying to figure out the difference\n",
            "but i think, i think the lines are starting to get blurry\n",
            "i'm in a strange place\n",
            "i feel like mae when he gave up the game for his faith\n",
            "i feel like i'm caged in these chains and restraints\n",
            "grimming every stranger in the place while i gaze into space\n",
            "'cause i'm mentally rearranging his face\n",
            "i need a change of pace 'cause the pace i'm working at is dangerous\n",
            "there's nowhere to dump this anger and thanks to this angst\n",
            "i done quit chicken heads in cold turkey and started slowly roasting 'em\n",
            "'cause that's where most of my anger is based\n",
            "fuck your feelings, i feel like i play for the saints\n",
            "i just wanna hurt you, aim for the skanks\n",
            "then aim for all these fake kanye's, jay's, wayne's and the drake's\n",
            "i'm frustrated 'cause ain't no more n'sync, now i'm all out of whack\n",
            "i'm all out of backstreet boys to call out and attack\n",
            "i'm going all out in this rap shit and whatever the fallout is\n",
            "i'm strapped for battle suckaduck, crawl out the back, it's a bar fight\n",
            "prepare your arsenal and beware of bar stools flying through the air\n",
            "and bottles breaking, mirrors also\n",
            "and i ain't stopping 'til the swear jar's full\n",
            "you done called every woman a slut, but you're forgetting sarah, marshall palin\n",
            "oh my bad, slut\n",
            "and next time i show up to court i'll be naked and just wear a lawsuit\n",
            "judge be like that's sharp, how much did that motherfucker cost you\n",
            "smart ass, you're lucky i don't tear it off you\n",
            "and jump your bones, you sexy motherfucker\n",
            "you're so fucking gravy, marshall, i should start calling you au jus\n",
            "'cause all's you do is spit them lyrics out the wazoo\n",
            "evil twin, take this beat now, it's all you\n",
            "i believe people can change, but only for the worse\n",
            "i could've changed the world if it wasn't for this verse\n",
            "so satanic kmart chains panic\n",
            "'cause they can't even spin back the curse words\n",
            "'cause they're worse when they're reversed, motherfucker\n",
            "rape your mother, kill your parents\n",
            "shit, motherfucker, and these kids are like parrots\n",
            "they run around the house just like terrorists\n",
            "screaming fuck, shit, fuck\n",
            "adult with a childishlike arrogance\n",
            "wild ever since the day i came out i was like merits, fuck that\n",
            "i'd rather be loud and i like swearing\n",
            "from the first album even the gals were like tight lyrics, dreamy eyes\n",
            "but my fucking mouth was nightmarish\n",
            "and from the start of it you felt like you were a part of this\n",
            "and the opposition felt the opposite\n",
            "sometimes i listen and revisit them old albums\n",
            "often as i can and skim through all them bitches\n",
            "to make sure i keep up with my competition\n",
            "ha ha hogger of beats, hoarder of rhymes\n",
            "borderline genius who's bored of his lines\n",
            "and that sort of defines where i'm at and the way i feel now\n",
            "feel like i might just strike first and ignore the replies\n",
            "there's darkness closing in evil twin\n",
            "there it goes again my evil twin,\n",
            "it controls my pen my evil twin,\n",
            "but that ain't me, it's my evil twin\n",
            "then i step out and see my evil twin he gives me an evil grin\n",
            "but he's just a friend evil twin,\n",
            "who pops up now and again again\n",
            "so don't blame me evil twin\n",
            "blame him, it's my evil twin\n",
            "then i step out and see my evil twin he gives me an evil grin\n",
            "welcome back to the land of the living, my friend\n",
            "you have slept for quite some time\n",
            "so who's left lady gaga mess with the bieber\n",
            "nah, f with christina, i ain't fucking with either jessica neither\n",
            "simpson or alba, my albums just sicker than strep with the fever\n",
            "get the cloriseptic, excedrin, aleve or extra strength tylenol 's\n",
            "feel like i'm burning to death, but i'm freezin'\n",
            "bedridden and destined never to leave the\n",
            "bedroom ever again like the legend of heathuh ledger\n",
            "my suicide notes, barely legible read the\n",
            "bottom, it's signed by the joker\n",
            "lorena said i never can leave her\n",
            "she'd sever my wiener i ever deceive her\n",
            "fuck that shit, bitch\n",
            "give up my dick for pussy, i'd be jerry mathers\n",
            "i ever left it to beaver\n",
            "get them titties cut off tryna mess with a cleaver\n",
            "gollywally, i vent, heat register, jesus\n",
            "ever since  dresden it was definitely my destiny\n",
            "when on the steps i met deshaun at osborn\n",
            "i'd never make it to sophomore\n",
            "i just wanted to skip school and rap, used to mop floors\n",
            "flip burgers and wash dishes while i wrote rhymes tryna get props for 'em\n",
            "'cause i took booksmarts and swapped for 'em\n",
            "they were sleeping, i made 'em stop snorin'\n",
            "made 'em break out the popcorn\n",
            "now i've been hiphop in its tiptop form\n",
            "since nwa was blaring through my car windows leaning on the horn\n",
            "screaming, fuck the police like cop porn\n",
            "flipped rap on its ear like i dropped corn\n",
            "fuck top , bitch, i'm top \n",
            "and that includes biggie and pac, whore\n",
            "and i got an evil twin, so who the fuck do you think that rd and that th spot's for\n",
            "and crazy as i am i'm much tamer than him\n",
            "and i'm nuts, then again who the fuck wants a plain eminem\n",
            "but no one's insaner than slim, look at that evil grin evil twin\n",
            "please come in, what was your name again\n",
            "hi, faggot\n",
            "look who's back with a crab up his ass like a lobster crawled up there\n",
            "two rabbits, a koala bear and a ball of hair\n",
            "and you're all aware i don't got it all upstairs\n",
            "guess that's why i'm an addict and it's so small up there\n",
            "peace to whitney, geez, just hit me\n",
            "that i should call the looney police to come get me\n",
            "'cause i'm so sick of being the truth i wish someone'd finally admit me\n",
            "to a mental hospital with britney\n",
            "oh, lmfao, no way, ho\n",
            "jose baez couldn't beat this rap, oj no\n",
            "hooray, i'm off the hook like casey anthony\n",
            "hey ho, hey ho\n",
            "i sound like i'm tryna sing the fucking chorus to hip hop hooray\n",
            "no, i'm hollering, you got bottom end like an \n",
            "and i base whether we're fucking off that instead of your face, so\n",
            "let your lowend raise, yo\n",
            "tango, what you think, ho\n",
            "slow dancing in the bowling\n",
            "you tryna hold hands with your homie\n",
            "what you think i'm looking for romance 'cause i'm lonely\n",
            "change that tune, you ain't got a remote chance to control me\n",
            "hoe, i'm only vulnerable when i got a boner\n",
            "superman tried to fuck me over, it won't hurt\n",
            "don't try to fix me, i'm broke so i don't work\n",
            "so are you, but you're broke 'cause you don't work\n",
            "but all bullshit aside i hit a stride\n",
            "still shady inside, hair every bit as dyed\n",
            "as it used to be when i first introduced y'all to my skittish side\n",
            "and blamed it on him when they tried to criticize\n",
            "'cause we are the same, bitch\n",
            "\n"
          ]
        }
      ]
    },
    {
      "cell_type": "code",
      "metadata": {
        "colab": {
          "base_uri": "https://localhost:8080/"
        },
        "id": "XmXAJcAYQ9U3",
        "outputId": "77466259-d844-40f9-e775-a551be6cecf4"
      },
      "source": [
        "\n",
        "text = \"\".join(lyrics)\n",
        "\n",
        "chars = sorted(list(set(text)))\n",
        "print(\"\\nTotal distinct chars : \", len(chars))\n",
        "print(chars)\n",
        "print(\"\\n\\nFinal Composition of corpus : \")\n",
        "\n",
        "total_char_count = 0\n",
        "for char in chars:\n",
        "    char_count = text.count(char)\n",
        "    total_char_count += char_count\n",
        "    print(char, \" : \", char_count)\n",
        "\n",
        "print(\"\\n\\n\")\n",
        "print(len(text),\"==\", total_char_count)"
      ],
      "execution_count": 79,
      "outputs": [
        {
          "output_type": "stream",
          "name": "stdout",
          "text": [
            "\n",
            "Total distinct chars :  30\n",
            "['\\n', ' ', \"'\", ',', 'a', 'b', 'c', 'd', 'e', 'f', 'g', 'h', 'i', 'j', 'k', 'l', 'm', 'n', 'o', 'p', 'q', 'r', 's', 't', 'u', 'v', 'w', 'x', 'y', 'z']\n",
            "\n",
            "\n",
            "Final Composition of corpus : \n",
            "\n",
            "  :  14880\n",
            "   :  108182\n",
            "'  :  9539\n",
            ",  :  7292\n",
            "a  :  36783\n",
            "b  :  8785\n",
            "c  :  12228\n",
            "d  :  17249\n",
            "e  :  50257\n",
            "f  :  8535\n",
            "g  :  11280\n",
            "h  :  26271\n",
            "i  :  35904\n",
            "j  :  1449\n",
            "k  :  8381\n",
            "l  :  19750\n",
            "m  :  15904\n",
            "n  :  31075\n",
            "o  :  39388\n",
            "p  :  8025\n",
            "q  :  243\n",
            "r  :  21505\n",
            "s  :  28532\n",
            "t  :  43713\n",
            "u  :  18683\n",
            "v  :  3893\n",
            "w  :  11409\n",
            "x  :  478\n",
            "y  :  14864\n",
            "z  :  530\n",
            "\n",
            "\n",
            "\n",
            "615007 == 615007\n"
          ]
        }
      ]
    },
    {
      "cell_type": "code",
      "metadata": {
        "colab": {
          "base_uri": "https://localhost:8080/"
        },
        "id": "GZ-eAuxBRBAa",
        "outputId": "c91d0bbb-2db7-4227-babf-4e0e5d6e4759"
      },
      "source": [
        "# dividing dataset lyrics into sentences and next character prediction\n",
        "input_text = []\n",
        "next_char_prediction = []\n",
        "\n",
        "INPUT_TEXT_LEN_FIXED = 30\n",
        "\n",
        "for each_lyric in lyrics:\n",
        "    \n",
        "    for i in range(0, len(each_lyric) - INPUT_TEXT_LEN_FIXED):\n",
        "        \n",
        "        input_text.append(each_lyric[i: i + INPUT_TEXT_LEN_FIXED])\n",
        "        next_char_prediction.append(each_lyric[i + INPUT_TEXT_LEN_FIXED])\n",
        "        \n",
        "print(\"Total Sentences : \", len (input_text))\n",
        "print(\"Total Next Character Predictions : \", len (next_char_prediction))\n",
        "print(\"Length of each sentence : \", len(input_text[345])) # Random index\n",
        "print(\"Length of each next output : \", len(next_char_prediction[214])) # Random index"
      ],
      "execution_count": 80,
      "outputs": [
        {
          "output_type": "stream",
          "name": "stdout",
          "text": [
            "Total Sentences :  610267\n",
            "Total Next Character Predictions :  610267\n",
            "Length of each sentence :  30\n",
            "Length of each next output :  1\n"
          ]
        }
      ]
    },
    {
      "cell_type": "code",
      "metadata": {
        "colab": {
          "base_uri": "https://localhost:8080/"
        },
        "id": "pxkgyEj0RDvY",
        "outputId": "49d7906c-3dd6-4590-af04-e2e3d6d7a71d"
      },
      "source": [
        "# Create a dictionary mapping from character to index \n",
        "char_to_index = dict((c, i) for i, c in enumerate(chars))\n",
        "\n",
        "# Create a dictionary mapping from index to character \n",
        "index_to_char = dict((i, c) for i, c in enumerate(chars))\n",
        "\n",
        "print(\"Total Characters : \", len(chars))\n",
        "print(chars)\n",
        "print(\"\\n Character To Index Mapping : \")\n",
        "print(char_to_index)\n",
        "print(\"\\n Index To Character Mapping : \")\n",
        "print(index_to_char)"
      ],
      "execution_count": 81,
      "outputs": [
        {
          "output_type": "stream",
          "name": "stdout",
          "text": [
            "Total Characters :  30\n",
            "['\\n', ' ', \"'\", ',', 'a', 'b', 'c', 'd', 'e', 'f', 'g', 'h', 'i', 'j', 'k', 'l', 'm', 'n', 'o', 'p', 'q', 'r', 's', 't', 'u', 'v', 'w', 'x', 'y', 'z']\n",
            "\n",
            " Character To Index Mapping : \n",
            "{'\\n': 0, ' ': 1, \"'\": 2, ',': 3, 'a': 4, 'b': 5, 'c': 6, 'd': 7, 'e': 8, 'f': 9, 'g': 10, 'h': 11, 'i': 12, 'j': 13, 'k': 14, 'l': 15, 'm': 16, 'n': 17, 'o': 18, 'p': 19, 'q': 20, 'r': 21, 's': 22, 't': 23, 'u': 24, 'v': 25, 'w': 26, 'x': 27, 'y': 28, 'z': 29}\n",
            "\n",
            " Index To Character Mapping : \n",
            "{0: '\\n', 1: ' ', 2: \"'\", 3: ',', 4: 'a', 5: 'b', 6: 'c', 7: 'd', 8: 'e', 9: 'f', 10: 'g', 11: 'h', 12: 'i', 13: 'j', 14: 'k', 15: 'l', 16: 'm', 17: 'n', 18: 'o', 19: 'p', 20: 'q', 21: 'r', 22: 's', 23: 't', 24: 'u', 25: 'v', 26: 'w', 27: 'x', 28: 'y', 29: 'z'}\n"
          ]
        }
      ]
    },
    {
      "cell_type": "code",
      "metadata": {
        "colab": {
          "base_uri": "https://localhost:8080/"
        },
        "id": "hNcUHieaRGRa",
        "outputId": "d83091e3-ce3f-45c8-9bf0-7594b201f6c7"
      },
      "source": [
        "import numpy as np\n",
        "\n",
        "# Now vectorizing the dataset so that it can be fed to the LSTM model\n",
        "\n",
        "# Vectorizing the dataset is similar to one-hot-encoding which consists of a vector representation for each character\n",
        "# that has all elements as 0 except for one whose index represents the actual character being present here\n",
        "\n",
        "x = np.zeros((len(input_text), INPUT_TEXT_LEN_FIXED, len(chars)), dtype=np.bool)\n",
        "y = np.zeros((len(next_char_prediction), len(chars)), dtype=np.bool)\n",
        "\n",
        "for idx, each_input_text in enumerate(input_text):\n",
        "    for char_pos, char in enumerate(each_input_text):\n",
        "        x[idx, char_pos, char_to_index[char]] = 1\n",
        "    y[idx, char_to_index[next_char_prediction[idx]]] = 1\n",
        "    \n",
        "print(\"Size of x : \", len(input_text)*INPUT_TEXT_LEN_FIXED*len(chars), \"elements (\", x.nbytes/1000000,\"MB )\")\n",
        "print(\"Size of y : \", len(next_char_prediction)*len(chars), \"elements (\", y.nbytes/1000000,\"MB )\")"
      ],
      "execution_count": 82,
      "outputs": [
        {
          "output_type": "stream",
          "name": "stdout",
          "text": [
            "Size of x :  549240300 elements ( 549.2403 MB )\n",
            "Size of y :  18308010 elements ( 18.30801 MB )\n"
          ]
        }
      ]
    },
    {
      "cell_type": "code",
      "metadata": {
        "id": "aDb_7hp7RJoV"
      },
      "source": [
        "# required modules for  making the model\n",
        "\n",
        "from tensorflow.keras.optimizers import Adam\n",
        "from keras.models import Sequential\n",
        "from keras.layers import Dense\n",
        "from keras.layers import LSTM\n",
        "\n",
        "from keras.callbacks import LambdaCallback"
      ],
      "execution_count": 83,
      "outputs": []
    },
    {
      "cell_type": "code",
      "metadata": {
        "colab": {
          "base_uri": "https://localhost:8080/"
        },
        "id": "kB2Lti6FRMUP",
        "outputId": "32fca134-b123-4607-db34-8ab8d68142fd"
      },
      "source": [
        "# Lyrics Generation Model\n",
        "\n",
        "model = Sequential()\n",
        "model.add(LSTM(128, return_sequences=True, input_shape=(INPUT_TEXT_LEN_FIXED, len(chars))))\n",
        "model.add(LSTM(64))\n",
        "model.add(Dense(100, activation='relu'))\n",
        "model.add(Dense(len(chars), activation='softmax'))\n",
        "\n",
        "optimizer = Adam(learning_rate=0.001, beta_1=0.9, beta_2=0.999, epsilon=1e-08, decay=0.0, amsgrad=False)\n",
        "model.compile(loss='categorical_crossentropy', optimizer=optimizer, metrics=[\"accuracy\"])\n",
        "\n",
        "model.summary()"
      ],
      "execution_count": 85,
      "outputs": [
        {
          "output_type": "stream",
          "name": "stdout",
          "text": [
            "Model: \"sequential_4\"\n",
            "_________________________________________________________________\n",
            "Layer (type)                 Output Shape              Param #   \n",
            "=================================================================\n",
            "lstm_8 (LSTM)                (None, 30, 128)           81408     \n",
            "_________________________________________________________________\n",
            "lstm_9 (LSTM)                (None, 64)                49408     \n",
            "_________________________________________________________________\n",
            "dense_8 (Dense)              (None, 100)               6500      \n",
            "_________________________________________________________________\n",
            "dense_9 (Dense)              (None, 30)                3030      \n",
            "=================================================================\n",
            "Total params: 140,346\n",
            "Trainable params: 140,346\n",
            "Non-trainable params: 0\n",
            "_________________________________________________________________\n"
          ]
        }
      ]
    },
    {
      "cell_type": "code",
      "metadata": {
        "id": "RHhw6eZ0RubG"
      },
      "source": [
        "\n",
        "# helper function to sample an index from a probability array\n",
        "def sample(preds, temperature=1.0):\n",
        "    epsilon = 1e-08\n",
        "    preds = np.asarray(preds).astype('float64')\n",
        "    preds = np.log(preds + epsilon) / temperature\n",
        "    exp_preds = np.exp(preds)\n",
        "    preds = exp_preds / np.sum(exp_preds)\n",
        "    probas = np.random.multinomial(1, preds, 1)\n",
        "    return np.argmax(probas)"
      ],
      "execution_count": 86,
      "outputs": []
    },
    {
      "cell_type": "code",
      "metadata": {
        "id": "sHpDCqGOR62J"
      },
      "source": [
        "import random\n",
        "import sys\n",
        "\n",
        "# Function invoked at end of each epoch. Prints generated text.\n",
        "def on_epoch_end(epoch, _):\n",
        "    print()\n",
        "    print('----- Generating text after Epoch: %d' % epoch)\n",
        "\n",
        "    start_index = random.randint(0, len(text) - INPUT_TEXT_LEN_FIXED - 1)\n",
        "    for diversity in [0.2, 0.5, 1.0, 1.2]:\n",
        "        print('----- diversity:', diversity)\n",
        "\n",
        "        generated = ''\n",
        "        sentence = text[start_index: start_index + INPUT_TEXT_LEN_FIXED]\n",
        "        generated += sentence\n",
        "        print('----- Generating with seed: \"' + sentence + '\"')\n",
        "        sys.stdout.write(generated)\n",
        "\n",
        "        for i in range(400):\n",
        "            x_pred = np.zeros((1, INPUT_TEXT_LEN_FIXED, len(chars)))\n",
        "            for t, char in enumerate(sentence):\n",
        "                x_pred[0, t, char_to_index[char]] = 1.\n",
        "\n",
        "            preds = model.predict(x_pred, verbose=0)[0]\n",
        "            next_index = sample(preds, diversity)\n",
        "            next_char = index_to_char[next_index]\n",
        "\n",
        "            generated += next_char\n",
        "            sentence = sentence[1:] + next_char\n",
        "\n",
        "            sys.stdout.write(next_char)\n",
        "            sys.stdout.flush()\n",
        "        print()"
      ],
      "execution_count": 87,
      "outputs": []
    },
    {
      "cell_type": "code",
      "metadata": {
        "id": "vf-lJKU9R_eb"
      },
      "source": [
        "print_callback = LambdaCallback(on_epoch_end=on_epoch_end)"
      ],
      "execution_count": 88,
      "outputs": []
    },
    {
      "cell_type": "code",
      "metadata": {
        "colab": {
          "base_uri": "https://localhost:8080/"
        },
        "id": "yzhWdirtSCbn",
        "outputId": "555b3105-9ec0-41a8-ccd3-5db337237e3d"
      },
      "source": [
        "model.fit(x, y,\n",
        "          batch_size=128,\n",
        "          epochs=3,\n",
        "          callbacks=[print_callback])"
      ],
      "execution_count": 89,
      "outputs": [
        {
          "output_type": "stream",
          "name": "stdout",
          "text": [
            "Epoch 1/3\n",
            "4768/4768 [==============================] - 106s 22ms/step - loss: 2.1704 - accuracy: 0.3626\n",
            "\n",
            "----- Generating text after Epoch: 0\n",
            "----- diversity: 0.2\n",
            "----- Generating with seed: \"know why all the fuss about me\"\n",
            "know why all the fuss about me in the so and i want in the some the so so the got in the some i want i want i want i want i got the sour and i want i can in the so so the so the been the so so so strees i so the so so would i cause i got and the so so the can i want the some i want i want i can i want i want in the so so so the say the some the so more in the some in the so so bone the got in the souse i want the sour and and \n",
            "----- diversity: 0.5\n",
            "----- Generating with seed: \"know why all the fuss about me\"\n",
            "know why all the fuss about me think with a to could thin whith and i'm starinn me a bone to bo like i see got i cay in the bick where with i as i and all in the prack in a crase i crisher and i'm so you beer so mare mare the pan the get and in i sime here with boo i'm so to the the lote when thit's it bide frop it here you say and so with the face think with a wound in in the stoin' i was to with i'm so to me me so so the sou\n",
            "----- diversity: 1.0\n",
            "----- Generating with seed: \"know why all the fuss about me\"\n",
            "know why all the fuss about me or\n",
            "a to got bust my\n",
            "just dien me in juck shose mo yaw my way a noy whe i grab\n",
            "evous coin' to do wain' couin's foomed, that's so, he gus i'm tash expinch\n",
            "i'm and the arvin to ena loodbeited us\n",
            "to kimige caped to fraw i so douw and me cum\n",
            "so get inver rocut oof douk wase don't relite thybi'm go to wish\n",
            "mes de\n",
            "go'm so a bomet\n",
            "liges i in blow lin't veam hove horned in tryis, emy, pact, to just\n",
            "in fro\n",
            "----- diversity: 1.2\n",
            "----- Generating with seed: \"know why all the fuss about me\"\n",
            "know why all the fuss about me mought is the lything wo, who strise feam fip\n",
            "it pabatting shit, backeg's ter fucked plogiofed rivery you a boght unsimy gy scanes bespica up silio,\n",
            "a crugh, bingatheraunterillica pikinn i'll toqu'bly\n",
            "itgonces you want and warci easin\n",
            "uena poal one my grady of to\n",
            "ktear the gon't in waloy's preile's a mocericy dolps,'ce i dong you preesioneffugiproy you\n",
            "jug juck, you green epkead liall my out bipp\n",
            "Epoch 2/3\n",
            "4768/4768 [==============================] - 104s 22ms/step - loss: 1.8120 - accuracy: 0.4520\n",
            "\n",
            "----- Generating text after Epoch: 1\n",
            "----- diversity: 0.2\n",
            "----- Generating with seed: \"ecord release party\n",
            "i'm bored \"\n",
            "ecord release party\n",
            "i'm bored the don't see the back the shit i don't my shot the song the song the shit i so stop the shit the shit the shit this shit it the shit it the say the stop the stop the some to see the grow the back the shit the shit the fuck the more shit it ass start the shit the dood the brown the shit the shit i don't see shot in the stand the want the want the streed the shood the world the shit it the down the\n",
            "----- diversity: 0.5\n",
            "----- Generating with seed: \"ecord release party\n",
            "i'm bored \"\n",
            "ecord release party\n",
            "i'm bored the furt\n",
            "so don't real a don't start the some were shit here the some\n",
            "i can't slook in the better\n",
            "the eppere to white mather me the was the dayor the prand\n",
            "i want from the frout\n",
            "my plice end you dight seet the can, i wast's can't start the lack to her and be shit it asbid the the all me you don't drock and me crone\n",
            "like the don't see my get when i got groby the troght they don't the prist\n",
            "it's her\n",
            "----- diversity: 1.0\n",
            "----- Generating with seed: \"ecord release party\n",
            "i'm bored \"\n",
            "ecord release party\n",
            "i'm bored seefsid they gleching\n",
            "dab\n",
            "i don't gone and kere like ane atserlf sivent corthepker turn your dimpatit what sitk\n",
            "i'm dunger,\n",
            "then bista\n",
            "i ain rrienul\n",
            "we kickpe\n",
            "it's the will your bit to go paseds even seed frod of the jacb throw it's brimand fims am is my micchors\n",
            "i the dack the fucks so hurder 'cause there first they can't the dedoot\n",
            "thought me sit it\n",
            "sittune, deaks someener about doid peches woun\n",
            "----- diversity: 1.2\n",
            "----- Generating with seed: \"ecord release party\n",
            "i'm bored \"\n",
            "ecord release party\n",
            "i'm bored bach that even the pinger,, oeasiad don' sleund 'til wooks\n",
            "now you'll clent whise's ag\n",
            "gettrong ac, ewlow\n",
            "it down aseancherd's noed one up though kedreay a dardin' voneretleds the tros all us\n",
            "ko\n",
            "mode pry and caaks shather dryur temcotic, and throwh you're have's horn\n",
            "stooom\n",
            "yousserbard the dok ognass\n",
            "your deok shywere was shex, i look\n",
            "my flost winesed't no moduany to the pan up acomin yom way spox\n",
            "Epoch 3/3\n",
            "4768/4768 [==============================] - 104s 22ms/step - loss: 1.6949 - accuracy: 0.4818\n",
            "\n",
            "----- Generating text after Epoch: 2\n",
            "----- diversity: 0.2\n",
            "----- Generating with seed: \"what kinda fuzukin' quizition \"\n",
            "what kinda fuzukin' quizition to shit to see i was should the fuck to the back in the fuck to so the say i was but i don't the still in the shit it a shit i say i got a cool to see it was a fucking so shoop to my shit i was to be the fucking a fight to be the shit the shit in the back and so stop the strings and back to so the back and stop to so the shit a shit i have the fuck to started to start a shit the shit the fucking a\n",
            "----- diversity: 0.5\n",
            "----- Generating with seed: \"what kinda fuzukin' quizition \"\n",
            "what kinda fuzukin' quizition and all i for moke i'm say you fuck it to be my feally shit i'm shit you could so sunderer conce done as a started i say the fuck to good a side to no like the good in a tooms and but i don't got a doen the fucking i got a still to see so come and for the fuck it all you all but you're kill the like a fuckin' but i don't got the pall to be you be in the blooking so been shit this shit through in m\n",
            "----- diversity: 1.0\n",
            "----- Generating with seed: \"what kinda fuzukin' quizition \"\n",
            "what kinda fuzukin' quizition fhors, i'm kealla dice off\n",
            "trickiea pasial kidne it, think oh back\n",
            "thirgh\n",
            "and got his is\n",
            "you stand it, let's mothing\n",
            "and you make a plabin\n",
            "fucking a usenule\n",
            "puftione of you\n",
            "she don't can to try a pidges morand after\n",
            "your can aicra and stee shoo chills in her arould to so doky's all moreers to do murnuss, 'sil us the all my limar eltound anywantly no ahoud to up,\n",
            "i'd a fold get for \n",
            "put inve beeuce\n",
            "----- diversity: 1.2\n",
            "----- Generating with seed: \"what kinda fuzukin' quizition \"\n",
            "what kinda fuzukin' quizition leaper of a sayy onlyway\n",
            "mull\n",
            "all i've rap gifo, i though, he'll brow a get d'hald\n",
            "i'm a drig, usched, quollix,\n",
            "whith who's mybaw\n",
            "aher\n",
            "the two loke orlymaa tloo my make 'emple\n",
            "'cause you're would go in a sgrew, tryini's through in that y's luffer cwazpm fabuote no, let's still fogemogy 'to, i worlts full in i deen\n",
            "warbmy plit\n",
            "is ers the reulem\n",
            "your groen and i'll bifery frie my bacshalls tuppony l\n"
          ]
        },
        {
          "output_type": "execute_result",
          "data": {
            "text/plain": [
              "<keras.callbacks.History at 0x7f4e87de0210>"
            ]
          },
          "metadata": {},
          "execution_count": 89
        }
      ]
    },
    {
      "cell_type": "code",
      "metadata": {
        "id": "omF-EF3wZpVa"
      },
      "source": [
        "def predict_lyrics(seed):\n",
        "\n",
        "    for diversity in [0.1, 0.2]:\n",
        "        print('----- diversity:', diversity)\n",
        "\n",
        "        generated = ''\n",
        "        sentence = seed[:INPUT_TEXT_LEN_FIXED].lower()\n",
        "        generated += sentence\n",
        "        print('----- Generating with seed: \"' + sentence + '\"')\n",
        "        sys.stdout.write(generated)\n",
        "\n",
        "        for i in range(350):\n",
        "            x_pred = np.zeros((1, INPUT_TEXT_LEN_FIXED, len(chars)))\n",
        "            for t, char in enumerate(sentence):\n",
        "                x_pred[0, t, char_to_index[char]] = 1.\n",
        "\n",
        "            preds = model.predict(x_pred, verbose=0)[0]\n",
        "            next_index = sample(preds, diversity)\n",
        "            next_char = index_to_char[next_index]\n",
        "\n",
        "            generated += next_char\n",
        "            sentence = sentence[1:] + next_char\n",
        "\n",
        "            sys.stdout.write(next_char)\n",
        "            sys.stdout.flush()\n",
        "        print()"
      ],
      "execution_count": 90,
      "outputs": []
    },
    {
      "cell_type": "code",
      "metadata": {
        "colab": {
          "base_uri": "https://localhost:8080/"
        },
        "id": "PrwqPwm7ZsWm",
        "outputId": "39b7324e-e782-40a3-f00d-7b4c039dcccc"
      },
      "source": [
        "# Characters allowed (a-z), (') , (,), (\\n), (<SPACE>) - 30 chars\n",
        "seed = \"everything i do it i do it for you\"\n",
        "\n",
        "# Given function will use the seed string to generate the most probable next 350 characters\n",
        "# Let's see what the model has learned!\n",
        "predict_lyrics(seed)"
      ],
      "execution_count": 92,
      "outputs": [
        {
          "output_type": "stream",
          "name": "stdout",
          "text": [
            "----- diversity: 0.1\n",
            "----- Generating with seed: \"everything i do it i do it for\"\n",
            "everything i do it i do it for me and i'm stare i was started a shit i was started and started to see the say the shit i say i say i say i say i say i was a store to started a sink of the shit the streets and start and but i say i don't say i say i don't be shoot to see i say i say i'm a sine a shit i say i say i say i don't say i was starting a fires and start to starting to s\n",
            "----- diversity: 0.2\n",
            "----- Generating with seed: \"everything i do it i do it for\"\n",
            "everything i do it i do it for the boot to see the fuck in the say the say the shit i say i say i'm shit i say i ain't be the fucking a like a straight to started in the fuck in the fucking shit the fuck a shit shoop to shoot in the fuck a she so i don't say i'm see you all i don't be the good and still the shit in the boot to say i don't be shoot a fires and start to the fucki\n"
          ]
        }
      ]
    },
    {
      "cell_type": "code",
      "metadata": {
        "colab": {
          "base_uri": "https://localhost:8080/"
        },
        "id": "5I1IKY7tZ3Ge",
        "outputId": "fe50f085-fbdb-4cd8-a78d-068ed144809a"
      },
      "source": [
        "# Characters allowed (a-z), (') , (,), (\\n), (<SPACE>) - 30 chars\n",
        "seed = \"hey my love the way you pull me\"\n",
        "\n",
        "# Given function will use the seed string to generate the most probable next 350 characters\n",
        "# Let's see what the model has learned!\n",
        "predict_lyrics(seed)"
      ],
      "execution_count": 97,
      "outputs": [
        {
          "output_type": "stream",
          "name": "stdout",
          "text": [
            "----- diversity: 0.1\n",
            "----- Generating with seed: \"hey my love the way you pull m\"\n",
            "hey my love the way you pull my shit i say i say i say i don't say i'm stare the fucking shit i say i say i'm started a fucking a shit it a shit i say i say i say i say i say i say i say i don't say i got a fucking stop to be the fucking a fucking shit i say i don't say i say i say i say i got a fucking still the fuck to started to see in the shit i say i say i say i say i don'\n",
            "----- diversity: 0.2\n",
            "----- Generating with seed: \"hey my love the way you pull m\"\n",
            "hey my love the way you pull my back in the back to the fucking shit the fuck in the fucking so so when i say i don't got a fucking a fucking a boom to so bad a conders and started and start to start to see i don't got my shit i can since the fuck to stop to see the back in the shit i say i was start to the shit in the say i ain't be a could a should i got a fuckin' should a sh\n"
          ]
        }
      ]
    },
    {
      "cell_type": "code",
      "metadata": {
        "id": "VvtE3bsfnwUw"
      },
      "source": [
        ""
      ],
      "execution_count": null,
      "outputs": []
    }
  ]
}